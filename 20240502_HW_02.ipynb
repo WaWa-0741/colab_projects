{
  "nbformat": 4,
  "nbformat_minor": 0,
  "metadata": {
    "colab": {
      "provenance": [],
      "include_colab_link": true
    },
    "kernelspec": {
      "name": "python3",
      "display_name": "Python 3"
    },
    "language_info": {
      "name": "python"
    }
  },
  "cells": [
    {
      "cell_type": "markdown",
      "metadata": {
        "id": "view-in-github",
        "colab_type": "text"
      },
      "source": [
        "<a href=\"https://colab.research.google.com/github/WaWa-0741/colab_projects/blob/main/20240502_HW_02.ipynb\" target=\"_parent\"><img src=\"https://colab.research.google.com/assets/colab-badge.svg\" alt=\"Open In Colab\"/></a>"
      ]
    },
    {
      "cell_type": "code",
      "execution_count": null,
      "metadata": {
        "id": "ePyt2ihv5438"
      },
      "outputs": [],
      "source": [
        "# prompt: print(\"Hello Word\")\n",
        "\n",
        "print(\"Hello World\")\n"
      ]
    },
    {
      "cell_type": "code",
      "source": [
        "#string\n",
        "\n",
        "word=\"Hello Word\"\n",
        "\n",
        "#Number\n",
        "\n",
        "num=10\n",
        "\n",
        "#Boolean\n",
        "\n",
        "is_true=True\n",
        "\n",
        "#list\n",
        "\n",
        "scores=[90,80,100,65]\n",
        "sports=[\"baseball\",\"badmintion\"]"
      ],
      "metadata": {
        "id": "3XroFEsJ8Ych"
      },
      "execution_count": null,
      "outputs": []
    },
    {
      "cell_type": "code",
      "source": [
        "# Define a string variable\n",
        "animal = \"dog is an animal\"\n",
        "\n",
        "# Convert the string to lowercase\n",
        "new_animal_lower = animal.lower()\n",
        "\n",
        "# Convert the string to uppercase\n",
        "new_animal_upper = animal.upper()\n",
        "\n",
        "# Print the lowercase version of the string\n",
        "print(new_animal_lower)\n",
        "\n",
        "# Print the uppercase version of the string\n",
        "print(new_animal_upper)\n",
        "\n",
        "# Print the length of the original string\n",
        "print(len(animal))\n"
      ],
      "metadata": {
        "colab": {
          "base_uri": "https://localhost:8080/"
        },
        "id": "kMS8WWlKBvsv",
        "outputId": "20576999-8335-4ead-f573-d37c2d958081"
      },
      "execution_count": null,
      "outputs": [
        {
          "output_type": "stream",
          "name": "stdout",
          "text": [
            "dog is an animal\n",
            "DOG IS AN ANIMAL\n",
            "16\n"
          ]
        }
      ]
    },
    {
      "cell_type": "code",
      "source": [
        "# Define the sentence\n",
        "sentence = \"Today is a good day!\"\n",
        "\n",
        "# 1. Print the length of the sentence\n",
        "print(\"Length of the sentence:\", len(sentence))\n",
        "\n",
        "# 2. Convert the sentence to uppercase\n",
        "sentence_upper = sentence.upper()\n",
        "print(\"Uppercase sentence:\", sentence_upper)\n",
        "\n",
        "# 3. Convert the sentence to lowercase\n",
        "sentence_lower = sentence.lower()\n",
        "print(\"Lowercase sentence:\", sentence_lower)\n"
      ],
      "metadata": {
        "colab": {
          "base_uri": "https://localhost:8080/"
        },
        "id": "HhY9ecWsCFcw",
        "outputId": "18b77cb4-126d-48c7-f1fa-4e86b353ac01"
      },
      "execution_count": null,
      "outputs": [
        {
          "output_type": "stream",
          "name": "stdout",
          "text": [
            "Length of the sentence: 20\n",
            "Uppercase sentence: TODAY IS A GOOD DAY!\n",
            "Lowercase sentence: today is a good day!\n"
          ]
        }
      ]
    },
    {
      "cell_type": "code",
      "source": [
        "string_1 = \"San Francisco\"\n",
        "string_2 = \"Silicon Valley\"\n",
        "string_3 = \"Taipei\"\n",
        "string_4 = \"101\"\n",
        "\n",
        "print(f\"Let's go to {string_1}. It's a beautiful city\")\n",
        "print(f\"Let's go to {string_3} {string_4}. It's a beautiful building\")\n"
      ],
      "metadata": {
        "colab": {
          "base_uri": "https://localhost:8080/"
        },
        "id": "0yj9iuidEuRt",
        "outputId": "711deb68-4876-47e2-f28b-bfbfa558b83b"
      },
      "execution_count": null,
      "outputs": [
        {
          "output_type": "stream",
          "name": "stdout",
          "text": [
            "Let's go to San Francisco. It's a beautiful city\n",
            "Let's go to Taipei 101. It's a beautiful building\n"
          ]
        }
      ]
    },
    {
      "cell_type": "code",
      "source": [
        "b = \"pineapple\"\n",
        "\n",
        "if b == \"apple\":\n",
        "    print(\"Yes, I find an apple\")\n",
        "\n",
        "elif \"banana\" in b:  # 使用 in 來檢查字串是否包含在 b 中\n",
        "    print(\"I find a banana\")\n",
        "\n",
        "elif \"pineapple\" in b:  # 使用 in 來檢查字串是否包含在 b 中\n",
        "    print(\"I find a pineapple\")\n",
        "\n",
        "elif \"orange\" in b:  # 使用 in 來檢查字串是否包含在 b 中\n",
        "    print(\"I find an orange\")\n",
        "\n",
        "elif \"grape\" in b:  # 使用 in 來檢查字串是否包含在 b 中\n",
        "    print(\"I find a grape\")\n",
        "\n",
        "else:\n",
        "    print(\"No\")\n"
      ],
      "metadata": {
        "colab": {
          "base_uri": "https://localhost:8080/"
        },
        "id": "BSZ5bhTHLAa6",
        "outputId": "95b08f63-426c-4a08-e315-ad30a8413b06"
      },
      "execution_count": null,
      "outputs": [
        {
          "output_type": "stream",
          "name": "stdout",
          "text": [
            "I find a pineapple\n"
          ]
        }
      ]
    },
    {
      "cell_type": "code",
      "source": [
        "# 定義一個函數來組合漢堡的材料\n",
        "def burgerMaker(material_1, material_2, material_3, material_4):\n",
        "    burger = material_1 + \" \" + material_2 + \" \" + material_3 + \" \" + material_4\n",
        "    return burger\n",
        "\n",
        "# 定義材料變量\n",
        "a = \"meat\"\n",
        "b = \"cheese\"\n",
        "c = \"bread\"\n",
        "d = \"salad\"\n",
        "\n",
        "# 呼叫函數並傳遞材料，並將結果保存到變數 res 中\n",
        "res = burgerMaker(a, b, c, d)\n",
        "\n",
        "# 打印漢堡\n",
        "print(res)\n",
        "\n",
        "# 定義另一個函數來打印 \"Hello World\"\n",
        "def printHelloWorld():\n",
        "    print(\"Hello World\")\n",
        "\n",
        "# 呼叫上述定義的函數\n",
        "printHelloWorld()\n"
      ],
      "metadata": {
        "colab": {
          "base_uri": "https://localhost:8080/"
        },
        "id": "WUfhfNKbMq4L",
        "outputId": "d57ab935-98b3-491f-e1ec-6bf9937638ea"
      },
      "execution_count": null,
      "outputs": [
        {
          "output_type": "stream",
          "name": "stdout",
          "text": [
            "meat cheese bread salad\n",
            "Hello World\n"
          ]
        }
      ]
    }
  ]
}